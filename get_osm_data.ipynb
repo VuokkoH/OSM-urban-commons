{
 "cells": [
  {
   "cell_type": "markdown",
   "metadata": {},
   "source": [
    "# Retrieving OpenStreetMap data \n",
    "\n",
    "This notebook describes the workflow for downloding the OpenStreetMap data used in Votsis et al. 2025 \"A socio-spatial extension of the local climate zone typology: its potential in computational urban models and an example from Finnish cities\". \n",
    "\n",
    "Downloaded data can be found in the folder `osm_data` in this same repository. Please note that the data were downloaded in April 2021 using `osmnx` version 1.0.1 ([Boeing 2017](https://doi.org/10.1016/j.compenvurbsys.2017.05.004)) - the script in this notebook is a bit oudated but describes exactly how the data used in Votsis et al. were acquired. For latest version of `osmnx`, see https://osmnx.readthedocs.io/en/stable/  and documenation of a major update in [Boeing 2024](https://geoffboeing.com/publications/osmnx-paper/).\n",
    "\n",
    "Contents of this notebook are based on `osmnx` documentation and automating GIS processes course materials (2020 course version). Updated version of the same lesson, featuring `osmnx` 2.0.1 ([Boeing 2024](https://geoffboeing.com/publications/osmnx-paper/)) is available via [pythongis.org, chapter 9: Retrieving OpenStreetMap](https://pythongis.org/part2/chapter-09/nb/00-retrieving-osm-data.html) (Tenkanen, Heikinheimo & Whipp 2025).\n",
    "\n",
    "References for using these materials: \n",
    "\n",
    "- Votsis et al. 2025 journal article (link to be added once published)\n",
    "- © OpenStreetMap contributors 2021. (see [OSM copyright and license](https://www.openstreetmap.org/copyright))\n",
    "- [osmnx](https://osmnx.readthedocs.io/en/stable/) ([Boeing 2017](https://doi.org/10.1016/j.compenvurbsys.2017.05.004);  [Boeing 2024](https://geoffboeing.com/publications/osmnx-paper/))\n",
    "- [pythongis.org](pythongis.org) materials (Tenkanen, Heikinheimo & Whipp 2025).\n",
    "\n",
    "## OpenStreetMap\n",
    "\n",
    "OpenStreetMap (OSM) is a free and editable worldmap available at www.openstreetmap.org. OpenStreetMap is a community effort - anyone is free to edit the map as long as they follow the commonly agreed principles. OSM contains data about streets, buildings, services and landuse.  More details about OpenStreetMap and its contents are available in the [OpenStreetMap Wiki](https://wiki.openstreetmap.org/wiki/Main_Page).\n",
    "\n",
    "When using OSM data, appropriate credit should be given to OpenStreetMap and its contributors, for example like this: © OpenStreetMap contributors [year] ([see OSM Copyright and License](https://www.openstreetmap.org/copyright) for further details).\n",
    "\n",
    "There are different ways of accessing OSM data for further analysis. This notebook uses `osmnx` Python package that accesses the data via the [OverPass API](http://wiki.openstreetmap.org/wiki/Overpass_API). This notebook has been run using with osmnx version 1.0.1 and Python 3.8 in February 2021. For latest version of `osmnx`, see https://osmnx.readthedocs.io/en/stable/"
   ]
  },
  {
   "cell_type": "markdown",
   "metadata": {},
   "source": [
    "## Python environment\n",
    "\n",
    "Please refer to [pythongis.org installation instructions](https://pythongis.org/part1/chapter-01/nb/06-installation.html) for setting up a suitable Python environment. "
   ]
  },
  {
   "cell_type": "code",
   "execution_count": 1,
   "metadata": {},
   "outputs": [],
   "source": [
    "import os\n",
    "import glob\n",
    "import osmnx as ox\n",
    "import pandas as pd\n",
    "import geopandas as gpd\n",
    "import matplotlib.pyplot as plt\n",
    "import contextily as ctx"
   ]
  },
  {
   "cell_type": "code",
   "execution_count": 2,
   "metadata": {},
   "outputs": [],
   "source": [
    "# Proxy settings if needed"
   ]
  },
  {
   "cell_type": "code",
   "execution_count": 3,
   "metadata": {},
   "outputs": [],
   "source": [
    "out_folder = r\"osm_data\""
   ]
  },
  {
   "cell_type": "markdown",
   "metadata": {},
   "source": [
    "### Read in the case areas"
   ]
  },
  {
   "cell_type": "code",
   "execution_count": 4,
   "metadata": {},
   "outputs": [],
   "source": [
    "# Change to custom folder if needed\n",
    "data_folder = \"slupsu_kunnat\"\n",
    "file = r\"SLUPSU_kunnat.shp\"\n",
    "\n",
    "fp = os.path.join(os.path.join(data_folder, file))"
   ]
  },
  {
   "cell_type": "code",
   "execution_count": 5,
   "metadata": {},
   "outputs": [],
   "source": [
    "case_areas = gpd.read_file(fp)"
   ]
  },
  {
   "cell_type": "code",
   "execution_count": 6,
   "metadata": {},
   "outputs": [
    {
     "data": {
      "text/html": [
       "<div>\n",
       "<style scoped>\n",
       "    .dataframe tbody tr th:only-of-type {\n",
       "        vertical-align: middle;\n",
       "    }\n",
       "\n",
       "    .dataframe tbody tr th {\n",
       "        vertical-align: top;\n",
       "    }\n",
       "\n",
       "    .dataframe thead th {\n",
       "        text-align: right;\n",
       "    }\n",
       "</style>\n",
       "<table border=\"1\" class=\"dataframe\">\n",
       "  <thead>\n",
       "    <tr style=\"text-align: right;\">\n",
       "      <th></th>\n",
       "      <th>GML_ID</th>\n",
       "      <th>NATCODE</th>\n",
       "      <th>NAMEFIN</th>\n",
       "      <th>NAMESWE</th>\n",
       "      <th>LANDAREA</th>\n",
       "      <th>FRESHWAREA</th>\n",
       "      <th>SEAWAREA</th>\n",
       "      <th>TOTALAREA</th>\n",
       "      <th>geometry</th>\n",
       "    </tr>\n",
       "  </thead>\n",
       "  <tbody>\n",
       "    <tr>\n",
       "      <th>0</th>\n",
       "      <td>27844761</td>\n",
       "      <td>853</td>\n",
       "      <td>Turku</td>\n",
       "      <td>Åbo</td>\n",
       "      <td>245.66</td>\n",
       "      <td>3.47</td>\n",
       "      <td>57.22</td>\n",
       "      <td>306.35</td>\n",
       "      <td>POLYGON ((245370.120 6713650.591, 245369.600 6...</td>\n",
       "    </tr>\n",
       "    <tr>\n",
       "      <th>1</th>\n",
       "      <td>27846492</td>\n",
       "      <td>743</td>\n",
       "      <td>Seinäjoki</td>\n",
       "      <td>Seinäjoki</td>\n",
       "      <td>1431.78</td>\n",
       "      <td>37.45</td>\n",
       "      <td>0.00</td>\n",
       "      <td>1469.23</td>\n",
       "      <td>MULTIPOLYGON (((281740.431 7002279.761, 281845...</td>\n",
       "    </tr>\n",
       "    <tr>\n",
       "      <th>2</th>\n",
       "      <td>27846025</td>\n",
       "      <td>609</td>\n",
       "      <td>Pori</td>\n",
       "      <td>Björneborg</td>\n",
       "      <td>1156.10</td>\n",
       "      <td>61.76</td>\n",
       "      <td>844.14</td>\n",
       "      <td>2062.00</td>\n",
       "      <td>POLYGON ((222569.955 6816742.728, 222549.467 6...</td>\n",
       "    </tr>\n",
       "    <tr>\n",
       "      <th>3</th>\n",
       "      <td>27845388</td>\n",
       "      <td>245</td>\n",
       "      <td>Kerava</td>\n",
       "      <td>Kervo</td>\n",
       "      <td>30.63</td>\n",
       "      <td>0.16</td>\n",
       "      <td>0.00</td>\n",
       "      <td>30.79</td>\n",
       "      <td>POLYGON ((398347.983 6702173.082, 398349.107 6...</td>\n",
       "    </tr>\n",
       "    <tr>\n",
       "      <th>4</th>\n",
       "      <td>27853483</td>\n",
       "      <td>564</td>\n",
       "      <td>Oulu</td>\n",
       "      <td>Uleåborg</td>\n",
       "      <td>2971.14</td>\n",
       "      <td>80.20</td>\n",
       "      <td>764.93</td>\n",
       "      <td>3816.27</td>\n",
       "      <td>MULTIPOLYGON (((455758.027 7241702.760, 455757...</td>\n",
       "    </tr>\n",
       "  </tbody>\n",
       "</table>\n",
       "</div>"
      ],
      "text/plain": [
       "     GML_ID NATCODE    NAMEFIN     NAMESWE  LANDAREA  FRESHWAREA  SEAWAREA  \\\n",
       "0  27844761     853      Turku         Åbo    245.66        3.47     57.22   \n",
       "1  27846492     743  Seinäjoki   Seinäjoki   1431.78       37.45      0.00   \n",
       "2  27846025     609       Pori  Björneborg   1156.10       61.76    844.14   \n",
       "3  27845388     245     Kerava       Kervo     30.63        0.16      0.00   \n",
       "4  27853483     564       Oulu    Uleåborg   2971.14       80.20    764.93   \n",
       "\n",
       "   TOTALAREA                                           geometry  \n",
       "0     306.35  POLYGON ((245370.120 6713650.591, 245369.600 6...  \n",
       "1    1469.23  MULTIPOLYGON (((281740.431 7002279.761, 281845...  \n",
       "2    2062.00  POLYGON ((222569.955 6816742.728, 222549.467 6...  \n",
       "3      30.79  POLYGON ((398347.983 6702173.082, 398349.107 6...  \n",
       "4    3816.27  MULTIPOLYGON (((455758.027 7241702.760, 455757...  "
      ]
     },
     "execution_count": 6,
     "metadata": {},
     "output_type": "execute_result"
    }
   ],
   "source": [
    "case_areas.head()"
   ]
  },
  {
   "cell_type": "code",
   "execution_count": 7,
   "metadata": {},
   "outputs": [
    {
     "data": {
      "text/plain": [
       "<AxesSubplot:>"
      ]
     },
     "execution_count": 7,
     "metadata": {},
     "output_type": "execute_result"
    },
    {
     "data": {
      "image/png": "[encoded data removed]",
      "text/plain": [
       "<Figure size 432x288 with 1 Axes>"
      ]
     },
     "metadata": {
      "needs_background": "light"
     },
     "output_type": "display_data"
    }
   ],
   "source": [
    "case_areas.plot()"
   ]
  },
  {
   "cell_type": "code",
   "execution_count": 8,
   "metadata": {},
   "outputs": [
    {
     "data": {
      "text/plain": [
       "<Projected CRS: EPSG:3067>\n",
       "Name: ETRS89 / TM35FIN(E,N)\n",
       "Axis Info [cartesian]:\n",
       "- E[east]: Easting (metre)\n",
       "- N[north]: Northing (metre)\n",
       "Area of Use:\n",
       "- name: Finland - onshore and offshore.\n",
       "- bounds: (19.08, 58.84, 31.59, 70.09)\n",
       "Coordinate Operation:\n",
       "- name: TM35FIN\n",
       "- method: Transverse Mercator\n",
       "Datum: European Terrestrial Reference System 1989\n",
       "- Ellipsoid: GRS 1980\n",
       "- Prime Meridian: Greenwich"
      ]
     },
     "execution_count": 8,
     "metadata": {},
     "output_type": "execute_result"
    }
   ],
   "source": [
    "case_areas.crs"
   ]
  },
  {
   "cell_type": "markdown",
   "metadata": {},
   "source": [
    "### Projection\n",
    "\n",
    "The polygons need to be in WGS84 (EPSG:4326) for osmnx."
   ]
  },
  {
   "cell_type": "code",
   "execution_count": 9,
   "metadata": {},
   "outputs": [
    {
     "data": {
      "text/plain": [
       "'ETRS89 / TM35FIN(E,N)'"
      ]
     },
     "execution_count": 9,
     "metadata": {},
     "output_type": "execute_result"
    }
   ],
   "source": [
    "case_areas.crs.name"
   ]
  },
  {
   "cell_type": "code",
   "execution_count": 10,
   "metadata": {},
   "outputs": [],
   "source": [
    "case_areas = case_areas.to_crs(epsg=4326)"
   ]
  },
  {
   "cell_type": "code",
   "execution_count": 11,
   "metadata": {},
   "outputs": [
    {
     "data": {
      "text/plain": [
       "'WGS 84'"
      ]
     },
     "execution_count": 11,
     "metadata": {},
     "output_type": "execute_result"
    }
   ],
   "source": [
    "case_areas.crs.name"
   ]
  },
  {
   "cell_type": "markdown",
   "metadata": {},
   "source": [
    "## Fetch Points-of-interest\n",
    "\n",
    "Point-of-interest (POI) is a generic concept that describes point locations that represent places of interest. \n",
    "In OpenStreetMap, many POIs are described using the [amenity-tags](https://wiki.openstreetmap.org/wiki/Key:amenityhttps://wiki.openstreetmap.org/wiki/Key:amenity). \n",
    "We can, for excample, retrieve all restaurat locations by referring to the tag `amenity=restaurant`. See all available amenity categories from [OSM wiki](https://wiki.openstreetmap.org/wiki/Key:amenity). Various kinds of shops are tagged using [shop-tags](https://wiki.openstreetmap.org/wiki/Key:shop).\n",
    "\n",
    "Here, we will retrieve all shops and amenities for further inspection."
   ]
  },
  {
   "cell_type": "code",
   "execution_count": 12,
   "metadata": {},
   "outputs": [],
   "source": [
    "# List key-value pairs for tags\n",
    "#tags = {\"amenity\": True, 'shop': True, 'tourism': True}"
   ]
  },
  {
   "cell_type": "markdown",
   "metadata": {},
   "source": [
    "### Functions for repeating the process\n",
    "\n",
    "Function for fetching the data:"
   ]
  },
  {
   "cell_type": "code",
   "execution_count": 64,
   "metadata": {},
   "outputs": [
    {
     "name": "stderr",
     "output_type": "stream",
     "text": [
      "D:\\ProgramFiles\\Anaconda3\\envs\\python-gis\\lib\\site-packages\\ipykernel\\ipkernel.py:283: DeprecationWarning: `should_run_async` will not call `transform_cell` automatically in the future. Please pass the result to `transformed_cell` argument and any exception that happen during thetransform in `preprocessing_exc_tuple` in IPython 7.17 and above.\n",
      "  and should_run_async(code)\n"
     ]
    }
   ],
   "source": [
    "def get_pois(row, tags, areaname_col=\"name\", cols=[]):\n",
    "    \"\"\"Function for fetching OSM data for each row in a polygon geodataframe\"\"\"\n",
    "    \n",
    "    # GET THE DATA\n",
    "    print(\"Fetchin POIs from\", row[areaname_col])\n",
    "    pois = ox.geometries_from_polygon(row.geometry, tags)\n",
    "    print(\"Got\", len(pois), \"objects\")\n",
    "    \n",
    "    if cols == []:\n",
    "        cols = list(pois.columns.values)\n",
    "    \n",
    "    # Take subset of columns..\n",
    "    pois = pois[cols]\n",
    "    \n",
    "    pois[\"municipality\"] = row[areaname_col]\n",
    "\n",
    "    return pois"
   ]
  },
  {
   "cell_type": "markdown",
   "metadata": {},
   "source": [
    "Function for saving results per each region as a separate geopackage (Here it was easier to have separate files, could also print out all at once). Polygon geometries are converted to point centroids."
   ]
  },
  {
   "cell_type": "code",
   "execution_count": 65,
   "metadata": {},
   "outputs": [],
   "source": [
    "def save_selected(pois, gpkg, amenity_tag_dict, category=\"amenity\"):\n",
    "    \"\"\"Save multiple layers to geopackage\"\"\"\n",
    "    \n",
    "    for key in amenity_tag_dict.keys():\n",
    "        \n",
    "        # Select rows based on list of keys\n",
    "        selected_pois = pois[pois[category].isin(amenity_tag_dict.get(key))].copy()\n",
    "        \n",
    "        # Add info of category to new column for potential further use..\n",
    "        selected_pois[\"{}_reclass\".format(category)] = key\n",
    "        \n",
    "        if len(selected_pois) > 0:       \n",
    "            # Save selected rows to geopackage as new layer\n",
    "            print(\"Saving\", len(selected_pois), \" objects to file ({})..\".format(key))\n",
    "            selected_pois.to_file(gpkg, layer=key, driver=\"GPKG\")\n",
    "            \n",
    "        else: \n",
    "            print(\"found no\", key)"
   ]
  },
  {
   "cell_type": "code",
   "execution_count": 66,
   "metadata": {},
   "outputs": [],
   "source": [
    "def save_pois_to_gpkg(pois, gpkg, areaname=\"\", taginfo=\"\", cols=[], renamings={\"\":\"\"}):\n",
    "    \"\"\"Function for saving objects to geodataframe. Converts polygon geom to point before saving\"\"\"\n",
    "    \n",
    "    ## PREPARE DATA FOR SAVING:\n",
    "    \n",
    "    # Save info of original geom type\n",
    "    pois.loc[pois[\"geometry\"].type==\"Point\", \"source\"] = \"OSM_point\"\n",
    "    pois.loc[pois[\"geometry\"].type==\"Polygon\", \"source\"] = \"OSM_polygon\"\n",
    "\n",
    "    # Approximate polygon location using a point centroid \n",
    "    # Calculate centroid on-the-fly using a local projection (EPSG:3067)\n",
    "    if len(pois.loc[pois[\"geometry\"].type==\"Polygon\"])>0:\n",
    "        poly_centroids = pois.loc[pois[\"geometry\"].type==\"Polygon\"].to_crs(3067).centroid.to_crs(4326)\n",
    "        pois.loc[pois[\"geometry\"].type==\"Polygon\", \"geometry\"] = poly_centroids\n",
    "    \n",
    "    if cols == []:\n",
    "        cols = list(pois.columns.values)\n",
    "    \n",
    "    pois = pois[cols]\n",
    "    pois.rename(columns=renamings)\n",
    "    \n",
    "    # ALL AMENITIES\n",
    "    print(\"Saving\", len(pois), \"objects to file\")\n",
    "    pois.to_file(gpkg, layer=f\"{areaname}_{taginfo}\", driver=\"GPKG\")\n",
    "    \n",
    "    print(\"DONE saving data to\", gpkg, \"\\n\")"
   ]
  },
  {
   "cell_type": "markdown",
   "metadata": {},
   "source": [
    "### Custom settings (tags and columns)"
   ]
  },
  {
   "cell_type": "code",
   "execution_count": 99,
   "metadata": {},
   "outputs": [
    {
     "name": "stderr",
     "output_type": "stream",
     "text": [
      "D:\\ProgramFiles\\Anaconda3\\envs\\python-gis\\lib\\site-packages\\ipykernel\\ipkernel.py:283: DeprecationWarning: `should_run_async` will not call `transform_cell` automatically in the future. Please pass the result to `transformed_cell` argument and any exception that happen during thetransform in `preprocessing_exc_tuple` in IPython 7.17 and above.\n",
      "  and should_run_async(code)\n"
     ]
    }
   ],
   "source": [
    "# Final list of tags used\n",
    "tags = {\n",
    "    'amenity': True,\n",
    "    'leisure' : True,\n",
    "    'shop': True, \n",
    "    'historic': True, \n",
    "    'sport' : True, \n",
    "       }"
   ]
  },
  {
   "cell_type": "code",
   "execution_count": 101,
   "metadata": {},
   "outputs": [
    {
     "name": "stdout",
     "output_type": "stream",
     "text": [
      "{'amenity': True}\n",
      "{'leisure': True}\n",
      "{'shop': True}\n",
      "{'historic': True}\n",
      "{'sport': True}\n"
     ]
    }
   ],
   "source": [
    "# Get one key-value pair at a time.. (for separate processing..)\n",
    "for key, value in tags.items():\n",
    "    temp_dict = {}\n",
    "    temp_dict[key] = value\n",
    "    print(temp_dict)"
   ]
  },
  {
   "cell_type": "code",
   "execution_count": 103,
   "metadata": {},
   "outputs": [],
   "source": [
    "# List of columns to select from the result\n",
    "cols = ['osmid',\n",
    "        'name',\n",
    "        #'amenity',\n",
    "        #'shop',\n",
    "        #'tourism',\n",
    "        #'leisure',\n",
    "        #'name:fi', \n",
    "        'geometry']\n",
    "\n",
    "# Dictionary for renaming columns. Note! for shapefile output, max 8 characters will be stored!\n",
    "renamings = {'name:fi': 'name_fi', \n",
    "             'addr:city' : 'addr_city', \n",
    "             'addr:country' : 'addr_country', \n",
    "             'addr:postcode' : 'addr_postcode', \n",
    "             'addr:street': 'addr_street'}"
   ]
  },
  {
   "cell_type": "markdown",
   "metadata": {},
   "source": [
    "## Repeat the process"
   ]
  },
  {
   "cell_type": "code",
   "execution_count": 104,
   "metadata": {},
   "outputs": [
    {
     "data": {
      "text/plain": [
       "array(['Turku', 'Seinäjoki', 'Pori', 'Kerava', 'Oulu', 'Vantaa', 'Vihti',\n",
       "       'Kouvola', 'Vaasa', 'Kauniainen', 'Järvenpää', 'Tampere', 'Lahti',\n",
       "       'Lappeenranta', 'Hämeenlinna', 'Tuusula', 'Hyvinkää', 'Helsinki',\n",
       "       'Salo', 'Kuopio', 'Rovaniemi', 'Kirkkonummi', 'Riihimäki',\n",
       "       'Joensuu', 'Sipoo', 'Kotka', 'Mikkeli', 'Espoo', 'Nurmijärvi'],\n",
       "      dtype=object)"
      ]
     },
     "execution_count": 104,
     "metadata": {},
     "output_type": "execute_result"
    }
   ],
   "source": [
    "case_areas.NAMEFIN.unique()"
   ]
  },
  {
   "cell_type": "code",
   "execution_count": 105,
   "metadata": {},
   "outputs": [
    {
     "name": "stdout",
     "output_type": "stream",
     "text": [
      "{'amenity': True}\n",
      "['osmid', 'name', 'geometry', 'amenity'] \n",
      "\n",
      "{'leisure': True}\n",
      "['osmid', 'name', 'geometry', 'leisure'] \n",
      "\n",
      "{'shop': True}\n",
      "['osmid', 'name', 'geometry', 'shop'] \n",
      "\n",
      "{'historic': True}\n",
      "['osmid', 'name', 'geometry', 'historic'] \n",
      "\n",
      "{'sport': True}\n",
      "['osmid', 'name', 'geometry', 'sport'] \n",
      "\n"
     ]
    }
   ],
   "source": [
    "# Get one key-value pair at a time.. (for separate processing..)\n",
    "for key, value in tags.items():\n",
    "    temp_dict = {}\n",
    "    temp_dict[key] = value\n",
    "    print(temp_dict)\n",
    "    \n",
    "    temp_cols = cols.copy()\n",
    "    temp_cols.append(key)\n",
    "    print(temp_cols, \"\\n\")"
   ]
  },
  {
   "cell_type": "code",
   "execution_count": 106,
   "metadata": {},
   "outputs": [],
   "source": [
    "ox.config(timeout=10000)"
   ]
  },
  {
   "cell_type": "code",
   "execution_count": 107,
   "metadata": {},
   "outputs": [
    {
     "data": {
      "text/plain": [
       "{'amenity': True,\n",
       " 'leisure': True,\n",
       " 'shop': True,\n",
       " 'historic': True,\n",
       " 'sport': True}"
      ]
     },
     "execution_count": 107,
     "metadata": {},
     "output_type": "execute_result"
    }
   ],
   "source": [
    "tags"
   ]
  },
  {
   "cell_type": "code",
   "execution_count": 108,
   "metadata": {},
   "outputs": [],
   "source": [
    "# Fetch amenities for all case areas (results come stacked into one Pandas Series..)\n",
    "#results = case_areas.apply(get_pois, tags=tags, cols=[], renamings=renamings, areaname_col=\"NAMEFIN\", axis=1)"
   ]
  },
  {
   "cell_type": "code",
   "execution_count": 109,
   "metadata": {},
   "outputs": [],
   "source": [
    "#selected_shop_tags = [value for values in shop_tag_dict.values() for value in values]"
   ]
  },
  {
   "cell_type": "code",
   "execution_count": 110,
   "metadata": {},
   "outputs": [
    {
     "data": {
      "text/html": [
       "<div>\n",
       "<style scoped>\n",
       "    .dataframe tbody tr th:only-of-type {\n",
       "        vertical-align: middle;\n",
       "    }\n",
       "\n",
       "    .dataframe tbody tr th {\n",
       "        vertical-align: top;\n",
       "    }\n",
       "\n",
       "    .dataframe thead th {\n",
       "        text-align: right;\n",
       "    }\n",
       "</style>\n",
       "<table border=\"1\" class=\"dataframe\">\n",
       "  <thead>\n",
       "    <tr style=\"text-align: right;\">\n",
       "      <th></th>\n",
       "      <th>GML_ID</th>\n",
       "      <th>NATCODE</th>\n",
       "      <th>NAMEFIN</th>\n",
       "      <th>NAMESWE</th>\n",
       "      <th>LANDAREA</th>\n",
       "      <th>FRESHWAREA</th>\n",
       "      <th>SEAWAREA</th>\n",
       "      <th>TOTALAREA</th>\n",
       "      <th>geometry</th>\n",
       "    </tr>\n",
       "  </thead>\n",
       "  <tbody>\n",
       "    <tr>\n",
       "      <th>0</th>\n",
       "      <td>27844761</td>\n",
       "      <td>853</td>\n",
       "      <td>Turku</td>\n",
       "      <td>Åbo</td>\n",
       "      <td>245.66</td>\n",
       "      <td>3.47</td>\n",
       "      <td>57.22</td>\n",
       "      <td>306.35</td>\n",
       "      <td>POLYGON ((22.36528 60.47831, 22.36528 60.47831...</td>\n",
       "    </tr>\n",
       "    <tr>\n",
       "      <th>1</th>\n",
       "      <td>27846492</td>\n",
       "      <td>743</td>\n",
       "      <td>Seinäjoki</td>\n",
       "      <td>Seinäjoki</td>\n",
       "      <td>1431.78</td>\n",
       "      <td>37.45</td>\n",
       "      <td>0.00</td>\n",
       "      <td>1469.23</td>\n",
       "      <td>MULTIPOLYGON (((22.67622 63.08385, 22.67848 63...</td>\n",
       "    </tr>\n",
       "    <tr>\n",
       "      <th>2</th>\n",
       "      <td>27846025</td>\n",
       "      <td>609</td>\n",
       "      <td>Pori</td>\n",
       "      <td>Björneborg</td>\n",
       "      <td>1156.10</td>\n",
       "      <td>61.76</td>\n",
       "      <td>844.14</td>\n",
       "      <td>2062.00</td>\n",
       "      <td>POLYGON ((21.80371 61.38515, 21.80352 61.38402...</td>\n",
       "    </tr>\n",
       "    <tr>\n",
       "      <th>3</th>\n",
       "      <td>27845388</td>\n",
       "      <td>245</td>\n",
       "      <td>Kerava</td>\n",
       "      <td>Kervo</td>\n",
       "      <td>30.63</td>\n",
       "      <td>0.16</td>\n",
       "      <td>0.00</td>\n",
       "      <td>30.79</td>\n",
       "      <td>POLYGON ((25.15264 60.44299, 25.15266 60.44297...</td>\n",
       "    </tr>\n",
       "    <tr>\n",
       "      <th>4</th>\n",
       "      <td>27853483</td>\n",
       "      <td>564</td>\n",
       "      <td>Oulu</td>\n",
       "      <td>Uleåborg</td>\n",
       "      <td>2971.14</td>\n",
       "      <td>80.20</td>\n",
       "      <td>764.93</td>\n",
       "      <td>3816.27</td>\n",
       "      <td>MULTIPOLYGON (((26.05129 65.29534, 26.05127 65...</td>\n",
       "    </tr>\n",
       "  </tbody>\n",
       "</table>\n",
       "</div>"
      ],
      "text/plain": [
       "     GML_ID NATCODE    NAMEFIN     NAMESWE  LANDAREA  FRESHWAREA  SEAWAREA  \\\n",
       "0  27844761     853      Turku         Åbo    245.66        3.47     57.22   \n",
       "1  27846492     743  Seinäjoki   Seinäjoki   1431.78       37.45      0.00   \n",
       "2  27846025     609       Pori  Björneborg   1156.10       61.76    844.14   \n",
       "3  27845388     245     Kerava       Kervo     30.63        0.16      0.00   \n",
       "4  27853483     564       Oulu    Uleåborg   2971.14       80.20    764.93   \n",
       "\n",
       "   TOTALAREA                                           geometry  \n",
       "0     306.35  POLYGON ((22.36528 60.47831, 22.36528 60.47831...  \n",
       "1    1469.23  MULTIPOLYGON (((22.67622 63.08385, 22.67848 63...  \n",
       "2    2062.00  POLYGON ((21.80371 61.38515, 21.80352 61.38402...  \n",
       "3      30.79  POLYGON ((25.15264 60.44299, 25.15266 60.44297...  \n",
       "4    3816.27  MULTIPOLYGON (((26.05129 65.29534, 26.05127 65...  "
      ]
     },
     "execution_count": 110,
     "metadata": {},
     "output_type": "execute_result"
    }
   ],
   "source": [
    "case_areas.head()"
   ]
  },
  {
   "cell_type": "code",
   "execution_count": 111,
   "metadata": {},
   "outputs": [
    {
     "name": "stderr",
     "output_type": "stream",
     "text": [
      "D:\\ProgramFiles\\Anaconda3\\envs\\python-gis\\lib\\site-packages\\ipykernel\\ipkernel.py:283: DeprecationWarning: `should_run_async` will not call `transform_cell` automatically in the future. Please pass the result to `transformed_cell` argument and any exception that happen during thetransform in `preprocessing_exc_tuple` in IPython 7.17 and above.\n",
      "  and should_run_async(code)\n"
     ]
    },
    {
     "data": {
      "text/plain": [
       "['osmid', 'name', 'geometry', 'sport']"
      ]
     },
     "execution_count": 111,
     "metadata": {},
     "output_type": "execute_result"
    }
   ],
   "source": [
    "temp_cols"
   ]
  },
  {
   "cell_type": "code",
   "execution_count": 112,
   "metadata": {},
   "outputs": [
    {
     "name": "stdout",
     "output_type": "stream",
     "text": [
      "{'amenity': True}\n",
      "['osmid', 'name', 'geometry', 'amenity'] \n",
      "\n",
      "Fetchin POIs from Turku\n",
      "Got 4816 objects\n",
      "Fetchin POIs from Seinäjoki\n",
      "Got 1163 objects\n",
      "Fetchin POIs from Pori\n",
      "Got 836 objects\n",
      "Fetchin POIs from Kerava\n",
      "Got 840 objects\n",
      "Fetchin POIs from Oulu\n",
      "Got 3773 objects\n",
      "Fetchin POIs from Vantaa\n",
      "Got 4490 objects\n",
      "Fetchin POIs from Vihti\n",
      "Got 725 objects\n",
      "Fetchin POIs from Kouvola\n",
      "Got 3085 objects\n",
      "Fetchin POIs from Vaasa\n",
      "Got 1476 objects\n",
      "Fetchin POIs from Kauniainen\n",
      "Got 220 objects\n",
      "Fetchin POIs from Järvenpää\n",
      "Got 545 objects\n",
      "Fetchin POIs from Tampere\n",
      "Got 3632 objects\n",
      "Fetchin POIs from Lahti\n",
      "Got 1418 objects\n",
      "Fetchin POIs from Lappeenranta\n",
      "Got 1528 objects\n",
      "Fetchin POIs from Hämeenlinna\n",
      "Got 1738 objects\n",
      "Fetchin POIs from Tuusula\n",
      "Got 858 objects\n",
      "Fetchin POIs from Hyvinkää\n",
      "Got 786 objects\n",
      "Fetchin POIs from Helsinki\n",
      "Got 18319 objects\n",
      "Fetchin POIs from Salo\n",
      "Got 721 objects\n",
      "Fetchin POIs from Kuopio\n",
      "Got 1586 objects\n",
      "Fetchin POIs from Rovaniemi\n",
      "Got 906 objects\n",
      "Fetchin POIs from Kirkkonummi\n",
      "Got 878 objects\n",
      "Fetchin POIs from Riihimäki\n",
      "Got 559 objects\n",
      "Fetchin POIs from Joensuu\n",
      "Got 1570 objects\n",
      "Fetchin POIs from Sipoo\n",
      "Got 511 objects\n",
      "Fetchin POIs from Kotka\n",
      "Got 560 objects\n",
      "Fetchin POIs from Mikkeli\n",
      "Got 729 objects\n",
      "Fetchin POIs from Espoo\n",
      "Got 7225 objects\n",
      "Fetchin POIs from Nurmijärvi\n",
      "Got 559 objects\n",
      "amenity results from all municipalities: 66052 records\n",
      "      osmid                     name                   geometry  amenity  \\\n",
      "0  21536958                      ABC  POINT (22.26562 60.43177)     fuel   \n",
      "1  21992625                      NaN  POINT (22.27851 60.44710)  parking   \n",
      "2  25909379  Neste K Turku Kaskentie  POINT (22.27990 60.44200)     fuel   \n",
      "3  26110331                    Alvar  POINT (22.25828 60.45144)      bar   \n",
      "4  26110332               Cup & Pint  POINT (22.25498 60.45381)     cafe   \n",
      "\n",
      "  municipality  \n",
      "0        Turku  \n",
      "1        Turku  \n",
      "2        Turku  \n",
      "3        Turku  \n",
      "4        Turku  \n",
      "Saving 66052 objects to file\n",
      "DONE saving data to osm_data\\OpenStreetMap_data_slupsu_16_4_2021.gpkg \n",
      "\n",
      "{'leisure': True}\n",
      "['osmid', 'name', 'geometry', 'leisure'] \n",
      "\n",
      "Fetchin POIs from Turku\n",
      "Got 1507 objects\n",
      "Fetchin POIs from Seinäjoki\n",
      "Got 428 objects\n",
      "Fetchin POIs from Pori\n",
      "Got 476 objects\n",
      "Fetchin POIs from Kerava\n",
      "Got 257 objects\n",
      "Fetchin POIs from Oulu\n",
      "Got 1420 objects\n",
      "Fetchin POIs from Vantaa\n",
      "Got 1695 objects\n",
      "Fetchin POIs from Vihti\n",
      "Got 351 objects\n",
      "Fetchin POIs from Kouvola\n",
      "Got 1235 objects\n",
      "Fetchin POIs from Vaasa\n",
      "Got 590 objects\n",
      "Fetchin POIs from Kauniainen\n",
      "Got 56 objects\n",
      "Fetchin POIs from Järvenpää\n",
      "Got 153 objects\n",
      "Fetchin POIs from Tampere\n",
      "Got 1451 objects\n",
      "Fetchin POIs from Lahti\n",
      "Got 448 objects\n",
      "Fetchin POIs from Lappeenranta\n",
      "Got 404 objects\n",
      "Fetchin POIs from Hämeenlinna\n",
      "Got 765 objects\n",
      "Fetchin POIs from Tuusula\n",
      "Got 239 objects\n",
      "Fetchin POIs from Hyvinkää\n",
      "Got 260 objects\n",
      "Fetchin POIs from Helsinki\n",
      "Got 3967 objects\n",
      "Fetchin POIs from Salo\n",
      "Got 757 objects\n",
      "Fetchin POIs from Kuopio\n",
      "Got 656 objects\n",
      "Fetchin POIs from Rovaniemi\n",
      "Got 353 objects\n",
      "Fetchin POIs from Kirkkonummi\n",
      "Got 607 objects\n",
      "Fetchin POIs from Riihimäki\n",
      "Got 225 objects\n",
      "Fetchin POIs from Joensuu\n",
      "Got 459 objects\n",
      "Fetchin POIs from Sipoo\n",
      "Got 222 objects\n",
      "Fetchin POIs from Kotka\n",
      "Got 187 objects\n",
      "Fetchin POIs from Mikkeli\n",
      "Got 245 objects\n",
      "Fetchin POIs from Espoo\n",
      "Got 3146 objects\n",
      "Fetchin POIs from Nurmijärvi\n",
      "Got 261 objects\n",
      "leisure results from all municipalities: 22820 records\n",
      "       osmid                     name                   geometry  \\\n",
      "0  283324248   Aninkaisten keilahalli  POINT (22.27049 60.45545)   \n",
      "1  305896181                      NaN  POINT (22.30409 60.47362)   \n",
      "2  308460213                      NaN  POINT (22.30866 60.47599)   \n",
      "3  456732974         ELIXIA Jokivarsi  POINT (22.24824 60.43982)   \n",
      "4  469313991  Soutu- Ja Melontakeskus  POINT (22.26355 60.41279)   \n",
      "\n",
      "          leisure municipality  \n",
      "0   bowling_alley        Turku  \n",
      "1      playground        Turku  \n",
      "2      playground        Turku  \n",
      "3  fitness_centre        Turku  \n",
      "4   sports_centre        Turku  \n",
      "Saving 22820 objects to file\n",
      "DONE saving data to osm_data\\OpenStreetMap_data_slupsu_16_4_2021.gpkg \n",
      "\n",
      "{'shop': True}\n",
      "['osmid', 'name', 'geometry', 'shop'] \n",
      "\n",
      "Fetchin POIs from Turku\n",
      "Got 1107 objects\n",
      "Fetchin POIs from Seinäjoki\n",
      "Got 187 objects\n",
      "Fetchin POIs from Pori\n",
      "Got 188 objects\n",
      "Fetchin POIs from Kerava\n",
      "Got 135 objects\n",
      "Fetchin POIs from Oulu\n",
      "Got 511 objects\n",
      "Fetchin POIs from Vantaa\n",
      "Got 681 objects\n",
      "Fetchin POIs from Vihti\n",
      "Got 119 objects\n",
      "Fetchin POIs from Kouvola\n",
      "Got 500 objects\n",
      "Fetchin POIs from Vaasa\n",
      "Got 238 objects\n",
      "Fetchin POIs from Kauniainen\n",
      "Got 12 objects\n",
      "Fetchin POIs from Järvenpää\n",
      "Got 82 objects\n",
      "Fetchin POIs from Tampere\n",
      "Got 586 objects\n",
      "Fetchin POIs from Lahti\n",
      "Got 205 objects\n",
      "Fetchin POIs from Lappeenranta\n",
      "Got 289 objects\n",
      "Fetchin POIs from Hämeenlinna\n",
      "Got 341 objects\n",
      "Fetchin POIs from Tuusula\n",
      "Got 143 objects\n",
      "Fetchin POIs from Hyvinkää\n",
      "Got 222 objects\n",
      "Fetchin POIs from Helsinki\n",
      "Got 3503 objects\n",
      "Fetchin POIs from Salo\n",
      "Got 106 objects\n",
      "Fetchin POIs from Kuopio\n",
      "Got 285 objects\n",
      "Fetchin POIs from Rovaniemi\n",
      "Got 135 objects\n",
      "Fetchin POIs from Kirkkonummi\n",
      "Got 45 objects\n",
      "Fetchin POIs from Riihimäki\n",
      "Got 73 objects\n",
      "Fetchin POIs from Joensuu\n",
      "Got 322 objects\n",
      "Fetchin POIs from Sipoo\n",
      "Got 33 objects\n",
      "Fetchin POIs from Kotka\n",
      "Got 98 objects\n",
      "Fetchin POIs from Mikkeli\n",
      "Got 145 objects\n",
      "Fetchin POIs from Espoo\n",
      "Got 811 objects\n",
      "Fetchin POIs from Nurmijärvi\n",
      "Got 106 objects\n",
      "shop results from all municipalities: 11208 records\n",
      "      osmid                  name                   geometry  \\\n",
      "0  26110350           Ruohonjuuri  POINT (22.26452 60.45171)   \n",
      "1  30070342                Teboil  POINT (22.27412 60.45444)   \n",
      "2  30288487       Stockmann Turku  POINT (22.26289 60.45069)   \n",
      "3  30326364    S-market Manhattan  POINT (22.23356 60.45751)   \n",
      "4  32319352  Lidl Turku Pitkämäki  POINT (22.24094 60.45490)   \n",
      "\n",
      "               shop municipality  \n",
      "0               yes        Turku  \n",
      "1             kiosk        Turku  \n",
      "2  department_store        Turku  \n",
      "3       supermarket        Turku  \n",
      "4       supermarket        Turku  \n",
      "Saving 11208 objects to file\n",
      "DONE saving data to osm_data\\OpenStreetMap_data_slupsu_16_4_2021.gpkg \n",
      "\n",
      "{'historic': True}\n",
      "['osmid', 'name', 'geometry', 'historic'] \n",
      "\n",
      "Fetchin POIs from Turku\n",
      "Got 113 objects\n",
      "Fetchin POIs from Seinäjoki\n",
      "Got 38 objects\n",
      "Fetchin POIs from Pori\n",
      "Got 12 objects\n",
      "Fetchin POIs from Kerava\n",
      "Got 4 objects\n",
      "Fetchin POIs from Oulu\n",
      "Got 257 objects\n",
      "Fetchin POIs from Vantaa\n",
      "Got 43 objects\n",
      "Fetchin POIs from Vihti\n",
      "Got 39 objects\n",
      "Fetchin POIs from Kouvola\n",
      "Got 238 objects\n",
      "Fetchin POIs from Vaasa\n",
      "Got 52 objects\n",
      "Fetchin POIs from Kauniainen\n",
      "Got 2 objects\n",
      "Fetchin POIs from Järvenpää\n",
      "Got 2 objects\n",
      "Fetchin POIs from Tampere\n",
      "Got 59 objects\n",
      "Fetchin POIs from Lahti\n",
      "Got 35 objects\n",
      "Fetchin POIs from Lappeenranta\n",
      "Got 146 objects\n",
      "Fetchin POIs from Hämeenlinna\n",
      "Got 157 objects\n",
      "Fetchin POIs from Tuusula\n",
      "Got 10 objects\n",
      "Fetchin POIs from Hyvinkää\n",
      "Got 23 objects\n",
      "Fetchin POIs from Helsinki\n",
      "Got 568 objects\n",
      "Fetchin POIs from Salo\n",
      "Got 34 objects\n",
      "Fetchin POIs from Kuopio\n",
      "Got 97 objects\n",
      "Fetchin POIs from Rovaniemi\n",
      "Got 117 objects\n",
      "Fetchin POIs from Kirkkonummi\n",
      "Got 65 objects\n",
      "Fetchin POIs from Riihimäki\n",
      "Got 12 objects\n",
      "Fetchin POIs from Joensuu\n",
      "Got 86 objects\n",
      "Fetchin POIs from Sipoo\n",
      "Got 19 objects\n",
      "Fetchin POIs from Kotka\n",
      "Got 52 objects\n",
      "Fetchin POIs from Mikkeli\n",
      "Got 91 objects\n",
      "Fetchin POIs from Espoo\n",
      "Got 82 objects\n",
      "Fetchin POIs from Nurmijärvi\n",
      "Got 8 objects\n",
      "historic results from all municipalities: 2461 records\n",
      "       osmid                                 name                   geometry  \\\n",
      "0  195470291  Turun ilmapuolustuksen muistomerkki  POINT (22.27795 60.44863)   \n",
      "1  252609228                          Paavo Nurmi  POINT (22.27002 60.44797)   \n",
      "2  252610321                        Pietari Brahe  POINT (22.27768 60.45162)   \n",
      "3  252610322               Henrik Gabriel Porthan  POINT (22.27568 60.45125)   \n",
      "4  333100477                    Russian artillery  POINT (22.16916 60.42287)   \n",
      "\n",
      "   historic municipality  \n",
      "0  memorial        Turku  \n",
      "1  memorial        Turku  \n",
      "2  memorial        Turku  \n",
      "3  memorial        Turku  \n",
      "4  memorial        Turku  \n",
      "Saving 2461 objects to file\n",
      "DONE saving data to osm_data\\OpenStreetMap_data_slupsu_16_4_2021.gpkg \n",
      "\n",
      "{'sport': True}\n",
      "['osmid', 'name', 'geometry', 'sport'] \n",
      "\n",
      "Fetchin POIs from Turku\n",
      "Got 305 objects\n",
      "Fetchin POIs from Seinäjoki\n",
      "Got 98 objects\n",
      "Fetchin POIs from Pori\n",
      "Got 119 objects\n",
      "Fetchin POIs from Kerava\n",
      "Got 60 objects\n",
      "Fetchin POIs from Oulu\n",
      "Got 348 objects\n",
      "Fetchin POIs from Vantaa\n",
      "Got 297 objects\n",
      "Fetchin POIs from Vihti\n",
      "Got 154 objects\n",
      "Fetchin POIs from Kouvola\n",
      "Got 313 objects\n",
      "Fetchin POIs from Vaasa\n",
      "Got 134 objects\n",
      "Fetchin POIs from Kauniainen\n",
      "Got 21 objects\n",
      "Fetchin POIs from Järvenpää\n",
      "Got 47 objects\n",
      "Fetchin POIs from Tampere\n",
      "Got 293 objects\n",
      "Fetchin POIs from Lahti\n",
      "Got 126 objects\n",
      "Fetchin POIs from Lappeenranta\n",
      "Got 119 objects\n",
      "Fetchin POIs from Hämeenlinna\n",
      "Got 209 objects\n",
      "Fetchin POIs from Tuusula\n",
      "Got 77 objects\n",
      "Fetchin POIs from Hyvinkää\n",
      "Got 108 objects\n",
      "Fetchin POIs from Helsinki\n",
      "Got 1024 objects\n",
      "Fetchin POIs from Salo\n",
      "Got 97 objects\n",
      "Fetchin POIs from Kuopio\n",
      "Got 128 objects\n",
      "Fetchin POIs from Rovaniemi\n",
      "Got 96 objects\n",
      "Fetchin POIs from Kirkkonummi\n",
      "Got 172 objects\n",
      "Fetchin POIs from Riihimäki\n",
      "Got 52 objects\n",
      "Fetchin POIs from Joensuu\n",
      "Got 109 objects\n",
      "Fetchin POIs from Sipoo\n",
      "Got 53 objects\n",
      "Fetchin POIs from Kotka\n",
      "Got 72 objects\n",
      "Fetchin POIs from Mikkeli\n",
      "Got 82 objects\n",
      "Fetchin POIs from Espoo\n",
      "Got 603 objects\n",
      "Fetchin POIs from Nurmijärvi\n",
      "Got 93 objects\n",
      "sport results from all municipalities: 5409 records\n",
      "       osmid                     name                   geometry     sport  \\\n",
      "0  283324248   Aninkaisten keilahalli  POINT (22.27049 60.45545)     10pin   \n",
      "1  456732974         ELIXIA Jokivarsi  POINT (22.24824 60.43982)   fitness   \n",
      "2  457852140               Ase ja erä  POINT (22.26874 60.45606)  shooting   \n",
      "3  469313991  Soutu- Ja Melontakeskus  POINT (22.26355 60.41279)     canoe   \n",
      "4  471365001         Reebook CrossFit  POINT (22.28161 60.46517)   fitness   \n",
      "\n",
      "  municipality  \n",
      "0        Turku  \n",
      "1        Turku  \n",
      "2        Turku  \n",
      "3        Turku  \n",
      "4        Turku  \n",
      "Saving 5409 objects to file\n",
      "DONE saving data to osm_data\\OpenStreetMap_data_slupsu_16_4_2021.gpkg \n",
      "\n"
     ]
    }
   ],
   "source": [
    "# Get one key-value pair at a time.. (for separate processing..)\n",
    "for key, value in tags.items():\n",
    "    temp_dict = {}\n",
    "    temp_dict[key] = value\n",
    "    print(temp_dict)\n",
    "    \n",
    "    temp_cols = cols.copy()\n",
    "    temp_cols.append(key)\n",
    "    print(temp_cols, \"\\n\")\n",
    "    \n",
    "    try:\n",
    "        # Get the data, one key at a time\n",
    "        results = case_areas.apply(get_pois, tags=temp_dict, cols=temp_cols, areaname_col=\"NAMEFIN\", axis=1)\n",
    "    except:\n",
    "        print(\"stopped.. pr\")\n",
    "        \n",
    "    # Combine the stacked result dfs into a list and concatenate into one big gdf\n",
    "    result_list = [result for result in results]\n",
    "    combined = pd.concat(result_list)\n",
    "    \n",
    "    print(key, \"results from all municipalities:\", len(combined), \"records\")\n",
    "    print(combined.head())\n",
    "    \n",
    "    # output file name\n",
    "    gpkg = os.path.join(out_folder, \"OpenStreetMap_data_slupsu_16_4_2021.gpkg\")\n",
    "\n",
    "    # Save study area extent \n",
    "    #area.to_file(gpkg, layer=f\"{area_name}_region\", driver=\"GPKG\")\n",
    "\n",
    "    # Save points\n",
    "    save_pois_to_gpkg(combined, \n",
    "                      gpkg=gpkg,\n",
    "                      areaname=\"all\",\n",
    "                      cols=temp_cols,\n",
    "                      renamings=renamings,\n",
    "                      taginfo=key\n",
    "                     )"
   ]
  },
  {
   "cell_type": "code",
   "execution_count": null,
   "metadata": {},
   "outputs": [],
   "source": [
    "### FOR EACH AREA, CREATE SEPARATE GPKG\n",
    "for i in range(len(case_areas)):\n",
    "    \n",
    "    # INITIATE OUTPUT FILE AND SAVE STUDY AREA EXTENT\n",
    "    area = case_areas[case_areas.index == i]\n",
    "    area_name = area.at[i, areaname_col]\n",
    "    print(area_name)\n",
    "    \n",
    "    # output file name\n",
    "    gpkg = os.path.join(out_folder, \"OSM_slupsu.gpkg\")\n",
    "\n",
    "    # Save study area extent \n",
    "    #area.to_file(gpkg, layer=f\"{area_name}_region\", driver=\"GPKG\")\n",
    "\n",
    "\n",
    "    # Save points\n",
    "    save_pois_to_gpkg(results[i], \n",
    "                      gpkg=gpkg,\n",
    "                      areaname=area_name,\n",
    "                      cols=cols,\n",
    "                      renamings=renamings,\n",
    "                      taginfo=\"leisure\"\n",
    "                     )"
   ]
  },
  {
   "cell_type": "markdown",
   "metadata": {},
   "source": [
    "## Explore results\n",
    "\n",
    "The following scripts can be used to inspect the downloaded data. For Votsis et al. 2015 further processing of the downloaded data was done separately in desktop GIS software. "
   ]
  },
  {
   "cell_type": "code",
   "execution_count": null,
   "metadata": {},
   "outputs": [],
   "source": [
    "files = glob.glob(os.path.join(out_folder, \"*gpkg\"))"
   ]
  },
  {
   "cell_type": "code",
   "execution_count": null,
   "metadata": {},
   "outputs": [],
   "source": [
    "files"
   ]
  },
  {
   "cell_type": "markdown",
   "metadata": {
    "tags": []
   },
   "source": [
    "### Potential duplicates"
   ]
  },
  {
   "cell_type": "code",
   "execution_count": null,
   "metadata": {},
   "outputs": [],
   "source": [
    "def explore_duplicates(gpkg, layer=\"restaurants\"):\n",
    "    \n",
    "    print(\"\\n-------\", gpkg.split(\"_\")[1][:-5], layer, \"- potential duplicates------------\")\n",
    "    \n",
    "    data = gpd.read_file(gpkg, layer=layer)\n",
    "    \n",
    "    #counts = pd.DataFrame(data.name.value_counts(), columns=[\"count\"])\n",
    "    #print(data.name.value_counts())\n",
    "    \n",
    "    counts = pd.DataFrame(data.name.value_counts())\n",
    "    if len(counts[counts[\"name\"] > 1])>0:\n",
    "        print(counts[counts[\"name\"] > 1])\n",
    "\n",
    "for gpkg in files: \n",
    "    \n",
    "    for layer in [\"restaurants\", \"cafes\", \"pubs_clubs\"]:\n",
    "        explore_duplicates(gpkg, layer)\n"
   ]
  },
  {
   "cell_type": "markdown",
   "metadata": {},
   "source": [
    "### Visualize\n",
    "\n",
    "Simple maps for quick visual check"
   ]
  },
  {
   "cell_type": "code",
   "execution_count": null,
   "metadata": {},
   "outputs": [],
   "source": [
    "import fiona\n",
    "import contextily as ctx\n",
    "\n",
    "#package = \"OpenStreetMap_cafes_and_restaurants_FEB2021.gpkg\"\n",
    "\n",
    "for gpkg in files: \n",
    "    \n",
    "    fig, ax = plt.subplots(figsize=(12,8))\n",
    "    \n",
    "    data = gpd.read_file(gpkg, layer=\"restaurants\")\n",
    "    layername=\"{}_restaurants\".format(os.path.basename(gpkg).split(\"_\")[1][:-5])\n",
    "    \n",
    "    print(layername)\n",
    "    \n",
    "    #Re-project for plotting with basemap\n",
    "    data = data.to_crs(epsg=3857)\n",
    "\n",
    "    # Fetch amenities for all case areas\n",
    "    data.plot(ax=ax, column=\"amenity\", legend=True)\n",
    "    \n",
    "    ctx.add_basemap(ax, source=ctx.providers.OpenStreetMap.Mapnik)\n",
    "    \n",
    "    plt.axis(\"off\")\n",
    "    \n",
    "    plt.savefig(os.path.join(\"img\", layername + \".png\"), dpi=300)"
   ]
  }
 ],
 "metadata": {
  "kernelspec": {
   "display_name": "Python 3 (ipykernel)",
   "language": "python",
   "name": "python3"
  },
  "language_info": {
   "codemirror_mode": {
    "name": "ipython",
    "version": 3
   },
   "file_extension": ".py",
   "mimetype": "text/x-python",
   "name": "python",
   "nbconvert_exporter": "python",
   "pygments_lexer": "ipython3",
   "version": "3.10.9"
  }
 },
 "nbformat": 4,
 "nbformat_minor": 4
}
